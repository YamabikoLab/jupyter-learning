{
 "cells": [
  {
   "cell_type": "markdown",
   "metadata": {},
   "source": [
    "# 変換\n",
    "データは、必ずしも機械学習アルゴリズムのトレーニングに必要な最終的な処理済み形式で提供されるわけではありません。  \n",
    "変換を使用して、データに何らかの操作を実行し、トレーニングに適したものにします。\n",
    "\n",
    "すべてのTorchVisiontransformデータセットには、特徴を変更するためのパラメーターと target_transformラベルを変更するためのパラメーターの 2 つがあり、これらは変換ロジックを含む呼び出し可能オブジェクトを受け入れます。  \n",
    "torchvision.transformsモジュールは、すぐに使用できる一般的な変換をいくつか提供します。\n",
    "\n",
    "FashionMNIST の特徴は PIL 画像形式であり、ラベルは整数です。  \n",
    "トレーニングには、正規化されたテンソルとしての特徴と、ワンホットエンコードされたテンソルとしてのラベルが必要です。  \n",
    "これらの変換を行うには、ToTensorおよびを使用しますLambda。"
   ]
  },
  {
   "cell_type": "code",
   "execution_count": 2,
   "metadata": {},
   "outputs": [],
   "source": [
    "import torch\n",
    "from torchvision import datasets\n",
    "from torchvision.transforms import ToTensor, Lambda\n",
    "\n",
    "ds = datasets.FashionMNIST(\n",
    "    root=\"data\",\n",
    "    train=True,\n",
    "    download=True,\n",
    "    transform=ToTensor(),\n",
    "    target_transform=Lambda(lambda y: torch.zeros(10, dtype=torch.float).scatter_(0, torch.tensor(y), value=1))\n",
    ")"
   ]
  },
  {
   "cell_type": "markdown",
   "metadata": {},
   "source": [
    "## ToTensor()\n",
    "ToTensor は PIL 画像または NumPyndarrayを に変換しFloatTensor、画像のピクセル強度値を [0., 1.] の範囲でスケーリングします。\n",
    "\n",
    "## Lambda Transforms\n",
    "ラムダ変換は、任意のユーザー定義のラムダ関数を適用します。ここでは、整数をワンホットエンコードされたテンソルに変換する関数を定義します。  \n",
    "まず、サイズ 10 (データセット内のラベルの数) のゼロテンソルを作成し、 ラベルで指定されたインデックスに を割り当てる scatter_を呼び出します。value=1y"
   ]
  },
  {
   "cell_type": "code",
   "execution_count": 3,
   "metadata": {},
   "outputs": [],
   "source": [
    "target_transform = Lambda(lambda y: torch.zeros(\n",
    "    10, dtype=torch.float).scatter_(dim=0, index=torch.tensor(y), value=1))"
   ]
  }
 ],
 "metadata": {
  "kernelspec": {
   "display_name": "base",
   "language": "python",
   "name": "python3"
  },
  "language_info": {
   "codemirror_mode": {
    "name": "ipython",
    "version": 3
   },
   "file_extension": ".py",
   "mimetype": "text/x-python",
   "name": "python",
   "nbconvert_exporter": "python",
   "pygments_lexer": "ipython3",
   "version": "3.12.7"
  }
 },
 "nbformat": 4,
 "nbformat_minor": 2
}
