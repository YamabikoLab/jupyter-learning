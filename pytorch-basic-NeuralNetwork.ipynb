{
 "cells": [
  {
   "cell_type": "markdown",
   "metadata": {},
   "source": [
    "# ニューラルネットワークを構築する\n",
    "ニューラル ネットワークは、データに対して操作を実行するレイヤー/モジュールで構成されています。  \n",
    "torch.nn名前空間は、独自のニューラル ネットワークを構築するために必要なすべての構成要素を提供します。  \n",
    "PyTorch のすべてのモジュールは、nn.Moduleのサブクラスです。  \n",
    "ニューラル ネットワークは、他のモジュール (レイヤー) で構成されるモジュールそのものです。  \n",
    "このネストされた構造により、複雑なアーキテクチャを簡単に構築および管理できます。\n",
    "\n",
    "次のセクションでは、FashionMNIST データセット内の画像を分類するためのニューラル ネットワークを構築します。"
   ]
  },
  {
   "cell_type": "code",
   "execution_count": 3,
   "metadata": {},
   "outputs": [],
   "source": [
    "import os\n",
    "import torch\n",
    "from torch import nn\n",
    "from torch.utils.data import DataLoader\n",
    "from torchvision import datasets, transforms"
   ]
  },
  {
   "cell_type": "markdown",
   "metadata": {},
   "source": [
    "# トレーニング用デバイスを入手する\n",
    "CUDA、MPS、MTIA、XPU などのアクセラレータでモデルをトレーニングできるようにしたいと考えています 。  \n",
    "現在のアクセラレータが利用できる場合はそれを使用します。そうでない場合は CPU を使用します。"
   ]
  },
  {
   "cell_type": "code",
   "execution_count": null,
   "metadata": {},
   "outputs": [
    {
     "name": "stdout",
     "output_type": "stream",
     "text": [
      "Using cpu device\n"
     ]
    }
   ],
   "source": [
    "device = torch.device(\"cuda\" if torch.cuda.is_available() else \"cpu\")\n",
    "print(f\"Using {device} device\")\n",
    "print(torch.__version__)"
   ]
  }
 ],
 "metadata": {
  "kernelspec": {
   "display_name": "base",
   "language": "python",
   "name": "python3"
  },
  "language_info": {
   "codemirror_mode": {
    "name": "ipython",
    "version": 3
   },
   "file_extension": ".py",
   "mimetype": "text/x-python",
   "name": "python",
   "nbconvert_exporter": "python",
   "pygments_lexer": "ipython3",
   "version": "3.12.7"
  }
 },
 "nbformat": 4,
 "nbformat_minor": 2
}
